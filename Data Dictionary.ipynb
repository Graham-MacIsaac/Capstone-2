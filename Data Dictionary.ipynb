{
 "cells": [
  {
   "cell_type": "markdown",
   "id": "c91a7598",
   "metadata": {},
   "source": [
    "\"tags_df.csv\"\n",
    "\n",
    "table of basic story info and genre tags for the top 746 stories on TopWebFiction.com\n",
    "\n",
    "\"Name\" = Title, \"Data Type\" = String, \"Description\" = Story title <br>\n",
    "\"Name\" = Author, \"Data Type\" = String, \"Description\" = username of story author <br>\n",
    "\"Name\" = Votes, \"Data Type\" = String, \"Description\" = # of all time votes the story has recieved <br>\n",
    "\"Name\" = __tag names__, \"Data Type\" = String, \"Description\" = all the other columns are dummy variables with a 0 if that tag is not present in the story and a 1 if it is \n",
    "\n",
    "\n",
    "\"rs_df.csv\"\n",
    "\n",
    "table of basic story info and most related stories for the top 746 stories on TopWebFiction.com\n",
    "\n",
    "\"Name\" = Title, \"Data Type\" = String, \"Description\" = Story title<br>\n",
    "\"Name\" = Author, \"Data Type\" = String, \"Description\" = username of story author<br>\n",
    "\"Name\" = Votes, \"Data Type\" = String, \"Description\" = # of all time votes the story has recieved<br>\n",
    "\"Name\" = __related story names__, \"Data Type\" = String, \"Description\" = all the other columns are dummy variables with a 0 if that story title is not listed as a related story and a    1 if it is. Related stories are defined as the the 10 stories that share the most unique voters in common with that story\n"
   ]
  }
 ],
 "metadata": {
  "kernelspec": {
   "display_name": "Python 3",
   "language": "python",
   "name": "python3"
  },
  "language_info": {
   "codemirror_mode": {
    "name": "ipython",
    "version": 3
   },
   "file_extension": ".py",
   "mimetype": "text/x-python",
   "name": "python",
   "nbconvert_exporter": "python",
   "pygments_lexer": "ipython3",
   "version": "3.8.8"
  }
 },
 "nbformat": 4,
 "nbformat_minor": 5
}
