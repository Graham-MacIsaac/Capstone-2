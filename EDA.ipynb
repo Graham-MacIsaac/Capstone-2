{
 "cells": [
  {
   "cell_type": "markdown",
   "id": "cce5d18c",
   "metadata": {},
   "source": [
    "Exploratory Data Analysis"
   ]
  },
  {
   "cell_type": "markdown",
   "id": "432656de",
   "metadata": {},
   "source": [
    "EDA Questions:\n",
    "\n",
    "1. What are the most popular tags?\n",
    "   What are the most popular tags for the most popular (top 25%) stories?\n",
    "   What are the most popular tags for the least popular (bottom 25%) stories?\n",
    "2. What's the distribution of story votes?\n",
    "3. Which authors have multiple stories?\n",
    "4. Is the list of most popular related stories the same as the list of most popular stories?"
   ]
  },
  {
   "cell_type": "code",
   "execution_count": null,
   "id": "11398883",
   "metadata": {},
   "outputs": [],
   "source": [
    "sums = []\n",
    "for x in tags_df.columns:\n",
    "        try:\n",
    "            sums.append(tags_df[x].sum())\n",
    "        except:\n",
    "            sums.append(0)"
   ]
  },
  {
   "cell_type": "code",
   "execution_count": null,
   "id": "43305ecd",
   "metadata": {},
   "outputs": [],
   "source": [
    "sums[0] = 'NA'\n",
    "sums[1] = 'NA'\n",
    "sums[2] = 'NA'\n",
    "sums[3] = 'NA'"
   ]
  },
  {
   "cell_type": "code",
   "execution_count": null,
   "id": "d39d5a5d",
   "metadata": {},
   "outputs": [],
   "source": [
    "d = {'Title':list(tags_df.columns), 'Sums':sums}\n",
    "t = pd.DataFrame(d).transpose()\n",
    "t = t.rename(columns = t.iloc[0])\n",
    "t = t.drop(['Title'])\n",
    "t = t.drop(columns=['Title', 'Author','Votes', ''])\n",
    "t = t.sort_values(by=['Sums'], ascending=False ,axis=1)"
   ]
  },
  {
   "cell_type": "code",
   "execution_count": null,
   "id": "90ffe2d0",
   "metadata": {},
   "outputs": [],
   "source": [
    "sums = []\n",
    "for x in rs_df.columns:\n",
    "        try:\n",
    "            sums.append(rs_df[x].sum())\n",
    "        except:\n",
    "            sums.append(0)"
   ]
  },
  {
   "cell_type": "code",
   "execution_count": null,
   "id": "c91e51d1",
   "metadata": {},
   "outputs": [],
   "source": [
    "sums[0] = 'NA'\n",
    "sums[1] = 'NA'\n",
    "sums[2] = 'NA'"
   ]
  },
  {
   "cell_type": "code",
   "execution_count": null,
   "id": "b72f0dac",
   "metadata": {},
   "outputs": [],
   "source": [
    "d = {'Title':list(rs_df.columns), 'Sums':sums}\n",
    "r = pd.DataFrame(d).transpose()\n",
    "r = r.rename(columns = r.iloc[0])\n",
    "r = r.drop(['Title'])\n",
    "r = r.drop(columns=['Title', 'Author','Votes'])\n",
    "r = r.sort_values(by=['Sums'], ascending=False ,axis=1)"
   ]
  },
  {
   "cell_type": "code",
   "execution_count": null,
   "id": "8a1fc531",
   "metadata": {},
   "outputs": [],
   "source": [
    "rankcompare = r.transpose() "
   ]
  },
  {
   "cell_type": "code",
   "execution_count": null,
   "id": "b76cf5b2",
   "metadata": {},
   "outputs": [],
   "source": [
    "rankcompare['relindex'] = range(len(rankcompare))\n",
    "rankcompare['Title'] = rankcompare.index\n",
    "#rankcompare['absindex'] = "
   ]
  },
  {
   "cell_type": "code",
   "execution_count": null,
   "id": "940c2c80",
   "metadata": {},
   "outputs": [],
   "source": [
    "pd.set_option('display.max_rows', None)"
   ]
  },
  {
   "cell_type": "code",
   "execution_count": null,
   "id": "85367f7b",
   "metadata": {},
   "outputs": [],
   "source": [
    "pd.merge(rankcompare, rs_df, on='Title').iloc[:,1:20]"
   ]
  }
 ],
 "metadata": {
  "kernelspec": {
   "display_name": "Python 3",
   "language": "python",
   "name": "python3"
  },
  "language_info": {
   "codemirror_mode": {
    "name": "ipython",
    "version": 3
   },
   "file_extension": ".py",
   "mimetype": "text/x-python",
   "name": "python",
   "nbconvert_exporter": "python",
   "pygments_lexer": "ipython3",
   "version": "3.8.8"
  }
 },
 "nbformat": 4,
 "nbformat_minor": 5
}
